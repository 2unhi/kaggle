{
  "nbformat": 4,
  "nbformat_minor": 0,
  "metadata": {
    "colab": {
      "provenance": []
    },
    "kernelspec": {
      "name": "python3",
      "display_name": "Python 3"
    },
    "language_info": {
      "name": "python"
    }
  },
  "cells": [
    {
      "cell_type": "markdown",
      "source": [
        "## Convolutional Neural Network (CNN) Tutorial"
      ],
      "metadata": {
        "id": "SeinsN2wUsQ9"
      }
    },
    {
      "cell_type": "code",
      "execution_count": null,
      "metadata": {
        "id": "Frf5LKZBUn3Z"
      },
      "outputs": [],
      "source": [
        "import numpy as np\n",
        "import pandas as pd\n",
        "import seaborn as sns\n",
        "import matplotlib.pyplot as plt\n",
        "import matplotlib as mpl\n",
        "\n",
        "import warnings\n",
        "warnings.filterwarnings('ignore')"
      ]
    },
    {
      "cell_type": "code",
      "source": [
        "train = pd.read_csv(\"train.csv\")\n",
        "print(\"Train Shape: \",train.shape)"
      ],
      "metadata": {
        "colab": {
          "base_uri": "https://localhost:8080/"
        },
        "id": "RDr_7DsnU3Ti",
        "outputId": "2ca04383-f11e-4d7c-e574-537b475e1d12"
      },
      "execution_count": null,
      "outputs": [
        {
          "output_type": "stream",
          "name": "stdout",
          "text": [
            "Train Shape:  (42000, 785)\n"
          ]
        }
      ]
    },
    {
      "cell_type": "code",
      "source": [
        "train.head()"
      ],
      "metadata": {
        "colab": {
          "base_uri": "https://localhost:8080/",
          "height": 300
        },
        "id": "DiCxAaZWVIzT",
        "outputId": "c9e38b24-63ef-44cf-e890-4e0566ef959d"
      },
      "execution_count": null,
      "outputs": [
        {
          "output_type": "execute_result",
          "data": {
            "text/plain": [
              "   label  pixel0  pixel1  pixel2  pixel3  pixel4  pixel5  pixel6  pixel7  \\\n",
              "0      1       0       0       0       0       0       0       0       0   \n",
              "1      0       0       0       0       0       0       0       0       0   \n",
              "2      1       0       0       0       0       0       0       0       0   \n",
              "3      4       0       0       0       0       0       0       0       0   \n",
              "4      0       0       0       0       0       0       0       0       0   \n",
              "\n",
              "   pixel8  ...  pixel774  pixel775  pixel776  pixel777  pixel778  pixel779  \\\n",
              "0       0  ...         0         0         0         0         0         0   \n",
              "1       0  ...         0         0         0         0         0         0   \n",
              "2       0  ...         0         0         0         0         0         0   \n",
              "3       0  ...         0         0         0         0         0         0   \n",
              "4       0  ...         0         0         0         0         0         0   \n",
              "\n",
              "   pixel780  pixel781  pixel782  pixel783  \n",
              "0         0         0         0         0  \n",
              "1         0         0         0         0  \n",
              "2         0         0         0         0  \n",
              "3         0         0         0         0  \n",
              "4         0         0         0         0  \n",
              "\n",
              "[5 rows x 785 columns]"
            ],
            "text/html": [
              "\n",
              "\n",
              "  <div id=\"df-29c4a928-6b4b-4972-b6e3-48e1724c698b\">\n",
              "    <div class=\"colab-df-container\">\n",
              "      <div>\n",
              "<style scoped>\n",
              "    .dataframe tbody tr th:only-of-type {\n",
              "        vertical-align: middle;\n",
              "    }\n",
              "\n",
              "    .dataframe tbody tr th {\n",
              "        vertical-align: top;\n",
              "    }\n",
              "\n",
              "    .dataframe thead th {\n",
              "        text-align: right;\n",
              "    }\n",
              "</style>\n",
              "<table border=\"1\" class=\"dataframe\">\n",
              "  <thead>\n",
              "    <tr style=\"text-align: right;\">\n",
              "      <th></th>\n",
              "      <th>label</th>\n",
              "      <th>pixel0</th>\n",
              "      <th>pixel1</th>\n",
              "      <th>pixel2</th>\n",
              "      <th>pixel3</th>\n",
              "      <th>pixel4</th>\n",
              "      <th>pixel5</th>\n",
              "      <th>pixel6</th>\n",
              "      <th>pixel7</th>\n",
              "      <th>pixel8</th>\n",
              "      <th>...</th>\n",
              "      <th>pixel774</th>\n",
              "      <th>pixel775</th>\n",
              "      <th>pixel776</th>\n",
              "      <th>pixel777</th>\n",
              "      <th>pixel778</th>\n",
              "      <th>pixel779</th>\n",
              "      <th>pixel780</th>\n",
              "      <th>pixel781</th>\n",
              "      <th>pixel782</th>\n",
              "      <th>pixel783</th>\n",
              "    </tr>\n",
              "  </thead>\n",
              "  <tbody>\n",
              "    <tr>\n",
              "      <th>0</th>\n",
              "      <td>1</td>\n",
              "      <td>0</td>\n",
              "      <td>0</td>\n",
              "      <td>0</td>\n",
              "      <td>0</td>\n",
              "      <td>0</td>\n",
              "      <td>0</td>\n",
              "      <td>0</td>\n",
              "      <td>0</td>\n",
              "      <td>0</td>\n",
              "      <td>...</td>\n",
              "      <td>0</td>\n",
              "      <td>0</td>\n",
              "      <td>0</td>\n",
              "      <td>0</td>\n",
              "      <td>0</td>\n",
              "      <td>0</td>\n",
              "      <td>0</td>\n",
              "      <td>0</td>\n",
              "      <td>0</td>\n",
              "      <td>0</td>\n",
              "    </tr>\n",
              "    <tr>\n",
              "      <th>1</th>\n",
              "      <td>0</td>\n",
              "      <td>0</td>\n",
              "      <td>0</td>\n",
              "      <td>0</td>\n",
              "      <td>0</td>\n",
              "      <td>0</td>\n",
              "      <td>0</td>\n",
              "      <td>0</td>\n",
              "      <td>0</td>\n",
              "      <td>0</td>\n",
              "      <td>...</td>\n",
              "      <td>0</td>\n",
              "      <td>0</td>\n",
              "      <td>0</td>\n",
              "      <td>0</td>\n",
              "      <td>0</td>\n",
              "      <td>0</td>\n",
              "      <td>0</td>\n",
              "      <td>0</td>\n",
              "      <td>0</td>\n",
              "      <td>0</td>\n",
              "    </tr>\n",
              "    <tr>\n",
              "      <th>2</th>\n",
              "      <td>1</td>\n",
              "      <td>0</td>\n",
              "      <td>0</td>\n",
              "      <td>0</td>\n",
              "      <td>0</td>\n",
              "      <td>0</td>\n",
              "      <td>0</td>\n",
              "      <td>0</td>\n",
              "      <td>0</td>\n",
              "      <td>0</td>\n",
              "      <td>...</td>\n",
              "      <td>0</td>\n",
              "      <td>0</td>\n",
              "      <td>0</td>\n",
              "      <td>0</td>\n",
              "      <td>0</td>\n",
              "      <td>0</td>\n",
              "      <td>0</td>\n",
              "      <td>0</td>\n",
              "      <td>0</td>\n",
              "      <td>0</td>\n",
              "    </tr>\n",
              "    <tr>\n",
              "      <th>3</th>\n",
              "      <td>4</td>\n",
              "      <td>0</td>\n",
              "      <td>0</td>\n",
              "      <td>0</td>\n",
              "      <td>0</td>\n",
              "      <td>0</td>\n",
              "      <td>0</td>\n",
              "      <td>0</td>\n",
              "      <td>0</td>\n",
              "      <td>0</td>\n",
              "      <td>...</td>\n",
              "      <td>0</td>\n",
              "      <td>0</td>\n",
              "      <td>0</td>\n",
              "      <td>0</td>\n",
              "      <td>0</td>\n",
              "      <td>0</td>\n",
              "      <td>0</td>\n",
              "      <td>0</td>\n",
              "      <td>0</td>\n",
              "      <td>0</td>\n",
              "    </tr>\n",
              "    <tr>\n",
              "      <th>4</th>\n",
              "      <td>0</td>\n",
              "      <td>0</td>\n",
              "      <td>0</td>\n",
              "      <td>0</td>\n",
              "      <td>0</td>\n",
              "      <td>0</td>\n",
              "      <td>0</td>\n",
              "      <td>0</td>\n",
              "      <td>0</td>\n",
              "      <td>0</td>\n",
              "      <td>...</td>\n",
              "      <td>0</td>\n",
              "      <td>0</td>\n",
              "      <td>0</td>\n",
              "      <td>0</td>\n",
              "      <td>0</td>\n",
              "      <td>0</td>\n",
              "      <td>0</td>\n",
              "      <td>0</td>\n",
              "      <td>0</td>\n",
              "      <td>0</td>\n",
              "    </tr>\n",
              "  </tbody>\n",
              "</table>\n",
              "<p>5 rows × 785 columns</p>\n",
              "</div>\n",
              "      <button class=\"colab-df-convert\" onclick=\"convertToInteractive('df-29c4a928-6b4b-4972-b6e3-48e1724c698b')\"\n",
              "              title=\"Convert this dataframe to an interactive table.\"\n",
              "              style=\"display:none;\">\n",
              "\n",
              "  <svg xmlns=\"http://www.w3.org/2000/svg\" height=\"24px\"viewBox=\"0 0 24 24\"\n",
              "       width=\"24px\">\n",
              "    <path d=\"M0 0h24v24H0V0z\" fill=\"none\"/>\n",
              "    <path d=\"M18.56 5.44l.94 2.06.94-2.06 2.06-.94-2.06-.94-.94-2.06-.94 2.06-2.06.94zm-11 1L8.5 8.5l.94-2.06 2.06-.94-2.06-.94L8.5 2.5l-.94 2.06-2.06.94zm10 10l.94 2.06.94-2.06 2.06-.94-2.06-.94-.94-2.06-.94 2.06-2.06.94z\"/><path d=\"M17.41 7.96l-1.37-1.37c-.4-.4-.92-.59-1.43-.59-.52 0-1.04.2-1.43.59L10.3 9.45l-7.72 7.72c-.78.78-.78 2.05 0 2.83L4 21.41c.39.39.9.59 1.41.59.51 0 1.02-.2 1.41-.59l7.78-7.78 2.81-2.81c.8-.78.8-2.07 0-2.86zM5.41 20L4 18.59l7.72-7.72 1.47 1.35L5.41 20z\"/>\n",
              "  </svg>\n",
              "      </button>\n",
              "\n",
              "\n",
              "\n",
              "    <div id=\"df-77a9ff01-d8d7-4ca5-bb64-d73f8b00fd95\">\n",
              "      <button class=\"colab-df-quickchart\" onclick=\"quickchart('df-77a9ff01-d8d7-4ca5-bb64-d73f8b00fd95')\"\n",
              "              title=\"Suggest charts.\"\n",
              "              style=\"display:none;\">\n",
              "\n",
              "<svg xmlns=\"http://www.w3.org/2000/svg\" height=\"24px\"viewBox=\"0 0 24 24\"\n",
              "     width=\"24px\">\n",
              "    <g>\n",
              "        <path d=\"M19 3H5c-1.1 0-2 .9-2 2v14c0 1.1.9 2 2 2h14c1.1 0 2-.9 2-2V5c0-1.1-.9-2-2-2zM9 17H7v-7h2v7zm4 0h-2V7h2v10zm4 0h-2v-4h2v4z\"/>\n",
              "    </g>\n",
              "</svg>\n",
              "      </button>\n",
              "    </div>\n",
              "\n",
              "<style>\n",
              "  .colab-df-quickchart {\n",
              "    background-color: #E8F0FE;\n",
              "    border: none;\n",
              "    border-radius: 50%;\n",
              "    cursor: pointer;\n",
              "    display: none;\n",
              "    fill: #1967D2;\n",
              "    height: 32px;\n",
              "    padding: 0 0 0 0;\n",
              "    width: 32px;\n",
              "  }\n",
              "\n",
              "  .colab-df-quickchart:hover {\n",
              "    background-color: #E2EBFA;\n",
              "    box-shadow: 0px 1px 2px rgba(60, 64, 67, 0.3), 0px 1px 3px 1px rgba(60, 64, 67, 0.15);\n",
              "    fill: #174EA6;\n",
              "  }\n",
              "\n",
              "  [theme=dark] .colab-df-quickchart {\n",
              "    background-color: #3B4455;\n",
              "    fill: #D2E3FC;\n",
              "  }\n",
              "\n",
              "  [theme=dark] .colab-df-quickchart:hover {\n",
              "    background-color: #434B5C;\n",
              "    box-shadow: 0px 1px 3px 1px rgba(0, 0, 0, 0.15);\n",
              "    filter: drop-shadow(0px 1px 2px rgba(0, 0, 0, 0.3));\n",
              "    fill: #FFFFFF;\n",
              "  }\n",
              "</style>\n",
              "\n",
              "    <script>\n",
              "      async function quickchart(key) {\n",
              "        const containerElement = document.querySelector('#' + key);\n",
              "        const charts = await google.colab.kernel.invokeFunction(\n",
              "            'suggestCharts', [key], {});\n",
              "      }\n",
              "    </script>\n",
              "\n",
              "      <script>\n",
              "\n",
              "function displayQuickchartButton(domScope) {\n",
              "  let quickchartButtonEl =\n",
              "    domScope.querySelector('#df-77a9ff01-d8d7-4ca5-bb64-d73f8b00fd95 button.colab-df-quickchart');\n",
              "  quickchartButtonEl.style.display =\n",
              "    google.colab.kernel.accessAllowed ? 'block' : 'none';\n",
              "}\n",
              "\n",
              "        displayQuickchartButton(document);\n",
              "      </script>\n",
              "      <style>\n",
              "    .colab-df-container {\n",
              "      display:flex;\n",
              "      flex-wrap:wrap;\n",
              "      gap: 12px;\n",
              "    }\n",
              "\n",
              "    .colab-df-convert {\n",
              "      background-color: #E8F0FE;\n",
              "      border: none;\n",
              "      border-radius: 50%;\n",
              "      cursor: pointer;\n",
              "      display: none;\n",
              "      fill: #1967D2;\n",
              "      height: 32px;\n",
              "      padding: 0 0 0 0;\n",
              "      width: 32px;\n",
              "    }\n",
              "\n",
              "    .colab-df-convert:hover {\n",
              "      background-color: #E2EBFA;\n",
              "      box-shadow: 0px 1px 2px rgba(60, 64, 67, 0.3), 0px 1px 3px 1px rgba(60, 64, 67, 0.15);\n",
              "      fill: #174EA6;\n",
              "    }\n",
              "\n",
              "    [theme=dark] .colab-df-convert {\n",
              "      background-color: #3B4455;\n",
              "      fill: #D2E3FC;\n",
              "    }\n",
              "\n",
              "    [theme=dark] .colab-df-convert:hover {\n",
              "      background-color: #434B5C;\n",
              "      box-shadow: 0px 1px 3px 1px rgba(0, 0, 0, 0.15);\n",
              "      filter: drop-shadow(0px 1px 2px rgba(0, 0, 0, 0.3));\n",
              "      fill: #FFFFFF;\n",
              "    }\n",
              "  </style>\n",
              "\n",
              "      <script>\n",
              "        const buttonEl =\n",
              "          document.querySelector('#df-29c4a928-6b4b-4972-b6e3-48e1724c698b button.colab-df-convert');\n",
              "        buttonEl.style.display =\n",
              "          google.colab.kernel.accessAllowed ? 'block' : 'none';\n",
              "\n",
              "        async function convertToInteractive(key) {\n",
              "          const element = document.querySelector('#df-29c4a928-6b4b-4972-b6e3-48e1724c698b');\n",
              "          const dataTable =\n",
              "            await google.colab.kernel.invokeFunction('convertToInteractive',\n",
              "                                                     [key], {});\n",
              "          if (!dataTable) return;\n",
              "\n",
              "          const docLinkHtml = 'Like what you see? Visit the ' +\n",
              "            '<a target=\"_blank\" href=https://colab.research.google.com/notebooks/data_table.ipynb>data table notebook</a>'\n",
              "            + ' to learn more about interactive tables.';\n",
              "          element.innerHTML = '';\n",
              "          dataTable['output_type'] = 'display_data';\n",
              "          await google.colab.output.renderOutput(dataTable, element);\n",
              "          const docLink = document.createElement('div');\n",
              "          docLink.innerHTML = docLinkHtml;\n",
              "          element.appendChild(docLink);\n",
              "        }\n",
              "      </script>\n",
              "    </div>\n",
              "  </div>\n"
            ]
          },
          "metadata": {},
          "execution_count": 10
        }
      ]
    },
    {
      "cell_type": "code",
      "source": [
        "test = pd.read_csv(\"test.csv\")\n",
        "print(\"Test Shape:\",test.shape)"
      ],
      "metadata": {
        "colab": {
          "base_uri": "https://localhost:8080/"
        },
        "id": "RmD3XdrrVKqL",
        "outputId": "02e5c86d-6a76-42dd-92c8-3dba76081761"
      },
      "execution_count": null,
      "outputs": [
        {
          "output_type": "stream",
          "name": "stdout",
          "text": [
            "Test Shape: (28000, 784)\n"
          ]
        }
      ]
    },
    {
      "cell_type": "code",
      "source": [
        "y_train = train[\"label\"]\n",
        "X_train = train.drop(labels=[\"label\"],axis=1)"
      ],
      "metadata": {
        "id": "royQxjdgVVrh"
      },
      "execution_count": null,
      "outputs": []
    },
    {
      "cell_type": "code",
      "source": [
        "!pip install --upgrade seaborn"
      ],
      "metadata": {
        "id": "ILeYhkmglQO0"
      },
      "execution_count": null,
      "outputs": []
    },
    {
      "cell_type": "code",
      "source": [
        "plt.figure(figsize=(15,7))\n",
        "g = sns.countplot(y_train, palette=\"icefire\")\n",
        "plt.title(\"Number of digit classes\")\n",
        "print(\" \\t # y_train value counts # \\n\",y_train.value_counts())"
      ],
      "metadata": {
        "colab": {
          "base_uri": "https://localhost:8080/",
          "height": 836
        },
        "id": "EcZBBjYlVbdb",
        "outputId": "b2b7ca6e-d2f7-4eb9-d6ec-bec35e03ab4a"
      },
      "execution_count": null,
      "outputs": [
        {
          "output_type": "stream",
          "name": "stdout",
          "text": [
            " \t # y_train value counts # \n",
            " 1    4684\n",
            "7    4401\n",
            "3    4351\n",
            "9    4188\n",
            "2    4177\n",
            "6    4137\n",
            "0    4132\n",
            "4    4072\n",
            "8    4063\n",
            "5    3795\n",
            "Name: label, dtype: int64\n"
          ]
        },
        {
          "output_type": "display_data",
          "data": {
            "text/plain": [
              "<Figure size 1500x700 with 1 Axes>"
            ],
            "image/png": "[encoded data removed]"
          },
          "metadata": {}
        }
      ]
    },
    {
      "cell_type": "code",
      "source": [
        "plt.figure(figsize=(8,6))\n",
        "img = X_train.iloc[8].to_numpy()\n",
        "img = img.reshape((28,28))\n",
        "plt.imshow(img,cmap='gray')\n",
        "plt.title(train.iloc[8,0])\n",
        "plt.grid()\n",
        "plt.show()"
      ],
      "metadata": {
        "id": "bqFdoqWaVgYe",
        "colab": {
          "base_uri": "https://localhost:8080/",
          "height": 545
        },
        "outputId": "2b782029-a280-4c17-e75b-7dfe3128c817"
      },
      "execution_count": null,
      "outputs": [
        {
          "output_type": "display_data",
          "data": {
            "text/plain": [
              "<Figure size 800x600 with 1 Axes>"
            ],
            "image/png": "[encoded data removed]"
          },
          "metadata": {}
        }
      ]
    },
    {
      "cell_type": "code",
      "source": [
        "X_train = X_train / 255.0\n",
        "test = test / 255.0\n",
        "print(\"x_train shape: \",X_train.shape)\n",
        "print(\"test shape: \",test.shape)"
      ],
      "metadata": {
        "colab": {
          "base_uri": "https://localhost:8080/"
        },
        "id": "4bgebnyGXuy1",
        "outputId": "65623272-a58b-4725-9dbd-90a6b59f6f9a"
      },
      "execution_count": null,
      "outputs": [
        {
          "output_type": "stream",
          "name": "stdout",
          "text": [
            "x_train shape:  (42000, 784)\n",
            "test shape:  (28000, 784)\n"
          ]
        }
      ]
    },
    {
      "cell_type": "code",
      "source": [
        "X_train = X_train.values.reshape(-1,28,28,1)\n",
        "test = test.values.reshape(-1,28,28,1)\n",
        "print(\"x_train shape: \",X_train.shape)\n",
        "print(\"test shape: \",test.shape)"
      ],
      "metadata": {
        "colab": {
          "base_uri": "https://localhost:8080/"
        },
        "id": "jIpWvdTjXzp_",
        "outputId": "dd95b48f-7076-45fe-87e1-89d7fe5b1bc7"
      },
      "execution_count": null,
      "outputs": [
        {
          "output_type": "stream",
          "name": "stdout",
          "text": [
            "x_train shape:  (42000, 28, 28, 1)\n",
            "test shape:  (28000, 28, 28, 1)\n"
          ]
        }
      ]
    },
    {
      "cell_type": "code",
      "source": [
        "from keras.utils.np_utils import to_categorical\n",
        "\n",
        "Y_train = to_categorical(y_train, num_classes = 10)"
      ],
      "metadata": {
        "id": "HNXsPykWX24K"
      },
      "execution_count": null,
      "outputs": []
    },
    {
      "cell_type": "code",
      "source": [
        "from sklearn.model_selection import train_test_split\n",
        "\n",
        "X_train, X_val, Y_train, Y_val = train_test_split(X_train, Y_train, test_size = 0.1, random_state=2)\n",
        "print(\"x_train shape: \",X_train.shape)\n",
        "print(\"x_val shape: \",X_val.shape)\n",
        "print(\"y_train shape: \",Y_train.shape)\n",
        "print(\"y_val shape: \",Y_val.shape)"
      ],
      "metadata": {
        "colab": {
          "base_uri": "https://localhost:8080/"
        },
        "id": "zwAgc8EXX6sL",
        "outputId": "0bad5afb-0e3b-4579-8fbe-1a3a03d668ad"
      },
      "execution_count": null,
      "outputs": [
        {
          "output_type": "stream",
          "name": "stdout",
          "text": [
            "x_train shape:  (37800, 28, 28, 1)\n",
            "x_val shape:  (4200, 28, 28, 1)\n",
            "y_train shape:  (37800, 10)\n",
            "y_val shape:  (4200, 10)\n"
          ]
        }
      ]
    },
    {
      "cell_type": "code",
      "source": [
        "from sklearn.metrics import confusion_matrix\n",
        "import itertools\n",
        "\n",
        "from keras.utils.np_utils import to_categorical\n",
        "from keras.models import Sequential\n",
        "from keras.layers import Dense, Dropout, Flatten, Conv2D, MaxPool2D\n",
        "from keras.optimizers import RMSprop,Adam\n",
        "from keras.preprocessing.image import ImageDataGenerator\n",
        "from keras.callbacks import ReduceLROnPlateau\n",
        "\n",
        "model = Sequential()\n",
        "\n",
        "model.add(Conv2D(filters = 8, kernel_size = (5,5),padding = 'Same',\n",
        "                 activation ='relu', input_shape = (28,28,1)))\n",
        "model.add(MaxPool2D(pool_size=(2,2)))\n",
        "model.add(Dropout(0.25))\n",
        "\n",
        "model.add(Conv2D(filters = 16, kernel_size = (3,3),padding = 'Same',\n",
        "                 activation ='relu'))\n",
        "model.add(MaxPool2D(pool_size=(2,2), strides=(2,2)))\n",
        "model.add(Dropout(0.25))\n",
        "\n",
        "model.add(Flatten())\n",
        "model.add(Dense(256, activation = \"relu\"))\n",
        "model.add(Dropout(0.5))\n",
        "model.add(Dense(10, activation = \"softmax\"))"
      ],
      "metadata": {
        "id": "LeTvfTFOYCsc"
      },
      "execution_count": null,
      "outputs": []
    },
    {
      "cell_type": "code",
      "source": [
        "optimizer = Adam(lr=0.001, beta_1=0.9, beta_2=0.999)"
      ],
      "metadata": {
        "id": "cmbH_X2-YPYt"
      },
      "execution_count": null,
      "outputs": []
    },
    {
      "cell_type": "code",
      "source": [
        "model.compile(optimizer = optimizer , loss = \"categorical_crossentropy\", metrics=[\"accuracy\"])"
      ],
      "metadata": {
        "id": "RjERLSdwYRdS"
      },
      "execution_count": null,
      "outputs": []
    },
    {
      "cell_type": "code",
      "source": [
        "datagen = ImageDataGenerator(\n",
        "        featurewise_center=False,\n",
        "        samplewise_center=False,\n",
        "        featurewise_std_normalization=False,\n",
        "        samplewise_std_normalization=False,\n",
        "        zca_whitening=False,\n",
        "        rotation_range=5,\n",
        "        zoom_range = 0.1,\n",
        "        width_shift_range=0.1,\n",
        "        height_shift_range=0.1,\n",
        "        horizontal_flip=False,\n",
        "        vertical_flip=False)\n",
        "\n",
        "datagen.fit(X_train)"
      ],
      "metadata": {
        "id": "VJm9nFZtYYCu"
      },
      "execution_count": null,
      "outputs": []
    },
    {
      "cell_type": "code",
      "source": [
        "from tensorflow.keras.callbacks import EarlyStopping\n",
        "\n",
        "early_stopping = EarlyStopping(monitor='val_loss', mode='min', verbose=1,patience=6)"
      ],
      "metadata": {
        "id": "jUoBMoa1Yal3"
      },
      "execution_count": null,
      "outputs": []
    },
    {
      "cell_type": "code",
      "source": [
        "history = model.fit_generator(datagen.flow(X_train,Y_train, batch_size=250),\n",
        "                              epochs = 50, validation_data = (X_val,Y_val), steps_per_epoch=X_train.shape[0] // batch_size,\n",
        "                              callbacks=[early_stopping])"
      ],
      "metadata": {
        "colab": {
          "base_uri": "https://localhost:8080/"
        },
        "id": "ac-xun3tYdX9",
        "outputId": "07dfb27c-c43c-408f-f7ff-46efaec1e7a5"
      },
      "execution_count": null,
      "outputs": [
        {
          "output_type": "stream",
          "name": "stdout",
          "text": [
            "Epoch 1/50\n",
            "151/151 [==============================] - 39s 257ms/step - loss: 0.5083 - accuracy: 0.8367 - val_loss: 0.1543 - val_accuracy: 0.9621\n",
            "Epoch 2/50\n",
            "151/151 [==============================] - 42s 278ms/step - loss: 0.3501 - accuracy: 0.8893 - val_loss: 0.1168 - val_accuracy: 0.9698\n",
            "Epoch 3/50\n",
            "151/151 [==============================] - 48s 316ms/step - loss: 0.2904 - accuracy: 0.9066 - val_loss: 0.0923 - val_accuracy: 0.9740\n",
            "Epoch 4/50\n",
            "151/151 [==============================] - 35s 231ms/step - loss: 0.2491 - accuracy: 0.9220 - val_loss: 0.0802 - val_accuracy: 0.9769\n",
            "Epoch 5/50\n",
            "151/151 [==============================] - 34s 227ms/step - loss: 0.2214 - accuracy: 0.9320 - val_loss: 0.0758 - val_accuracy: 0.9779\n",
            "Epoch 6/50\n",
            "151/151 [==============================] - 36s 238ms/step - loss: 0.2066 - accuracy: 0.9369 - val_loss: 0.0644 - val_accuracy: 0.9798\n",
            "Epoch 7/50\n",
            "151/151 [==============================] - 35s 229ms/step - loss: 0.1911 - accuracy: 0.9402 - val_loss: 0.0626 - val_accuracy: 0.9805\n",
            "Epoch 8/50\n",
            "151/151 [==============================] - 35s 229ms/step - loss: 0.1816 - accuracy: 0.9450 - val_loss: 0.0582 - val_accuracy: 0.9824\n",
            "Epoch 9/50\n",
            "151/151 [==============================] - 35s 233ms/step - loss: 0.1678 - accuracy: 0.9480 - val_loss: 0.0538 - val_accuracy: 0.9833\n",
            "Epoch 10/50\n",
            "151/151 [==============================] - 35s 232ms/step - loss: 0.1650 - accuracy: 0.9483 - val_loss: 0.0561 - val_accuracy: 0.9833\n",
            "Epoch 11/50\n",
            "151/151 [==============================] - 35s 234ms/step - loss: 0.1588 - accuracy: 0.9518 - val_loss: 0.0502 - val_accuracy: 0.9848\n",
            "Epoch 12/50\n",
            "151/151 [==============================] - 34s 225ms/step - loss: 0.1551 - accuracy: 0.9528 - val_loss: 0.0483 - val_accuracy: 0.9867\n",
            "Epoch 13/50\n",
            "151/151 [==============================] - 35s 233ms/step - loss: 0.1460 - accuracy: 0.9541 - val_loss: 0.0484 - val_accuracy: 0.9852\n",
            "Epoch 14/50\n",
            "151/151 [==============================] - 34s 224ms/step - loss: 0.1459 - accuracy: 0.9544 - val_loss: 0.0497 - val_accuracy: 0.9860\n",
            "Epoch 15/50\n",
            "151/151 [==============================] - 34s 222ms/step - loss: 0.1367 - accuracy: 0.9572 - val_loss: 0.0468 - val_accuracy: 0.9857\n",
            "Epoch 16/50\n",
            "151/151 [==============================] - 35s 231ms/step - loss: 0.1380 - accuracy: 0.9576 - val_loss: 0.0420 - val_accuracy: 0.9874\n",
            "Epoch 17/50\n",
            "151/151 [==============================] - 34s 222ms/step - loss: 0.1296 - accuracy: 0.9601 - val_loss: 0.0413 - val_accuracy: 0.9874\n",
            "Epoch 18/50\n",
            "151/151 [==============================] - 35s 231ms/step - loss: 0.1256 - accuracy: 0.9614 - val_loss: 0.0421 - val_accuracy: 0.9874\n",
            "Epoch 19/50\n",
            "151/151 [==============================] - 34s 223ms/step - loss: 0.1218 - accuracy: 0.9615 - val_loss: 0.0457 - val_accuracy: 0.9860\n",
            "Epoch 20/50\n",
            "151/151 [==============================] - 35s 234ms/step - loss: 0.1236 - accuracy: 0.9611 - val_loss: 0.0400 - val_accuracy: 0.9888\n",
            "Epoch 21/50\n",
            "151/151 [==============================] - 36s 235ms/step - loss: 0.1210 - accuracy: 0.9639 - val_loss: 0.0386 - val_accuracy: 0.9888\n",
            "Epoch 22/50\n",
            "151/151 [==============================] - 35s 233ms/step - loss: 0.1204 - accuracy: 0.9639 - val_loss: 0.0371 - val_accuracy: 0.9883\n",
            "Epoch 23/50\n",
            "151/151 [==============================] - 36s 236ms/step - loss: 0.1167 - accuracy: 0.9644 - val_loss: 0.0369 - val_accuracy: 0.9886\n",
            "Epoch 24/50\n",
            "151/151 [==============================] - 35s 231ms/step - loss: 0.1131 - accuracy: 0.9640 - val_loss: 0.0394 - val_accuracy: 0.9886\n",
            "Epoch 25/50\n",
            "151/151 [==============================] - 35s 231ms/step - loss: 0.1132 - accuracy: 0.9646 - val_loss: 0.0372 - val_accuracy: 0.9886\n",
            "Epoch 26/50\n",
            "151/151 [==============================] - 34s 224ms/step - loss: 0.1101 - accuracy: 0.9665 - val_loss: 0.0340 - val_accuracy: 0.9898\n",
            "Epoch 27/50\n",
            "151/151 [==============================] - 35s 232ms/step - loss: 0.1100 - accuracy: 0.9669 - val_loss: 0.0325 - val_accuracy: 0.9907\n",
            "Epoch 28/50\n",
            "151/151 [==============================] - 35s 231ms/step - loss: 0.1098 - accuracy: 0.9670 - val_loss: 0.0296 - val_accuracy: 0.9914\n",
            "Epoch 29/50\n",
            "151/151 [==============================] - 33s 221ms/step - loss: 0.1036 - accuracy: 0.9698 - val_loss: 0.0313 - val_accuracy: 0.9902\n",
            "Epoch 30/50\n",
            "151/151 [==============================] - 35s 232ms/step - loss: 0.1050 - accuracy: 0.9677 - val_loss: 0.0312 - val_accuracy: 0.9919\n",
            "Epoch 31/50\n",
            "151/151 [==============================] - 34s 223ms/step - loss: 0.1038 - accuracy: 0.9687 - val_loss: 0.0341 - val_accuracy: 0.9893\n",
            "Epoch 32/50\n",
            "151/151 [==============================] - 35s 231ms/step - loss: 0.1012 - accuracy: 0.9689 - val_loss: 0.0312 - val_accuracy: 0.9902\n",
            "Epoch 33/50\n",
            "151/151 [==============================] - 34s 222ms/step - loss: 0.0996 - accuracy: 0.9691 - val_loss: 0.0289 - val_accuracy: 0.9914\n",
            "Epoch 34/50\n",
            "151/151 [==============================] - 35s 230ms/step - loss: 0.1007 - accuracy: 0.9696 - val_loss: 0.0312 - val_accuracy: 0.9914\n",
            "Epoch 35/50\n",
            "151/151 [==============================] - 33s 221ms/step - loss: 0.0965 - accuracy: 0.9709 - val_loss: 0.0295 - val_accuracy: 0.9917\n",
            "Epoch 36/50\n",
            "151/151 [==============================] - 34s 228ms/step - loss: 0.1015 - accuracy: 0.9685 - val_loss: 0.0299 - val_accuracy: 0.9900\n",
            "Epoch 37/50\n",
            "151/151 [==============================] - 34s 226ms/step - loss: 0.0949 - accuracy: 0.9711 - val_loss: 0.0305 - val_accuracy: 0.9907\n",
            "Epoch 38/50\n",
            "151/151 [==============================] - 35s 233ms/step - loss: 0.0920 - accuracy: 0.9710 - val_loss: 0.0330 - val_accuracy: 0.9900\n",
            "Epoch 39/50\n",
            "151/151 [==============================] - 34s 223ms/step - loss: 0.0937 - accuracy: 0.9707 - val_loss: 0.0289 - val_accuracy: 0.9910\n",
            "Epoch 40/50\n",
            "151/151 [==============================] - 35s 232ms/step - loss: 0.0951 - accuracy: 0.9707 - val_loss: 0.0327 - val_accuracy: 0.9902\n",
            "Epoch 41/50\n",
            "151/151 [==============================] - 34s 223ms/step - loss: 0.0956 - accuracy: 0.9705 - val_loss: 0.0322 - val_accuracy: 0.9898\n",
            "Epoch 42/50\n",
            "151/151 [==============================] - 33s 221ms/step - loss: 0.0927 - accuracy: 0.9705 - val_loss: 0.0340 - val_accuracy: 0.9898\n",
            "Epoch 43/50\n",
            "151/151 [==============================] - 35s 231ms/step - loss: 0.0915 - accuracy: 0.9719 - val_loss: 0.0286 - val_accuracy: 0.9907\n",
            "Epoch 44/50\n",
            "151/151 [==============================] - 35s 232ms/step - loss: 0.0907 - accuracy: 0.9716 - val_loss: 0.0292 - val_accuracy: 0.9912\n",
            "Epoch 45/50\n",
            "151/151 [==============================] - 35s 233ms/step - loss: 0.0882 - accuracy: 0.9725 - val_loss: 0.0298 - val_accuracy: 0.9900\n",
            "Epoch 46/50\n",
            "151/151 [==============================] - 34s 223ms/step - loss: 0.0892 - accuracy: 0.9730 - val_loss: 0.0313 - val_accuracy: 0.9912\n",
            "Epoch 47/50\n",
            "151/151 [==============================] - 35s 228ms/step - loss: 0.0901 - accuracy: 0.9727 - val_loss: 0.0305 - val_accuracy: 0.9912\n",
            "Epoch 48/50\n",
            "151/151 [==============================] - 34s 222ms/step - loss: 0.0867 - accuracy: 0.9728 - val_loss: 0.0297 - val_accuracy: 0.9917\n",
            "Epoch 49/50\n",
            "151/151 [==============================] - 34s 222ms/step - loss: 0.0867 - accuracy: 0.9732 - val_loss: 0.0297 - val_accuracy: 0.9907\n",
            "Epoch 49: early stopping\n"
          ]
        }
      ]
    },
    {
      "cell_type": "code",
      "source": [
        "print(\"Accuracy of the model is \" , model.evaluate(X_val, Y_val, batch_size=batch_size)[1]*100 , \"%\")\n",
        "print(\"Loss of the model is \" , model.evaluate(X_val, Y_val, batch_size=batch_size)[0])"
      ],
      "metadata": {
        "colab": {
          "base_uri": "https://localhost:8080/"
        },
        "id": "XBfL0VaIYjZR",
        "outputId": "23f8e75a-8b7c-47c6-dfe6-e352d0204db6"
      },
      "execution_count": null,
      "outputs": [
        {
          "output_type": "stream",
          "name": "stdout",
          "text": [
            "17/17 [==============================] - 1s 70ms/step - loss: 0.0297 - accuracy: 0.9907\n",
            "Accuracy of the model is  99.07143115997314 %\n",
            "17/17 [==============================] - 1s 47ms/step - loss: 0.0297 - accuracy: 0.9907\n",
            "Loss of the model is  0.029732175171375275\n"
          ]
        }
      ]
    },
    {
      "cell_type": "code",
      "source": [
        "plt.figure()\n",
        "plt.plot(history.history[\"loss\"],label = \"Train Loss\", color = \"black\")\n",
        "plt.plot(history.history[\"val_loss\"],label = \"Validation Loss\", color = \"darkred\", marker = \"+\", linestyle=\"dashed\",markeredgecolor = \"purple\", markeredgewidth = 2)\n",
        "plt.title(\"Model Loss\", color = \"darkred\", size = 13)\n",
        "plt.legend()\n",
        "plt.show()"
      ],
      "metadata": {
        "colab": {
          "base_uri": "https://localhost:8080/",
          "height": 452
        },
        "id": "iZJrKn7vY23r",
        "outputId": "09a55396-2ea4-4880-d9c3-f9ec68f18e8d"
      },
      "execution_count": null,
      "outputs": [
        {
          "output_type": "display_data",
          "data": {
            "text/plain": [
              "<Figure size 640x480 with 1 Axes>"
            ],
            "image/png": "[encoded data removed]"
          },
          "metadata": {}
        }
      ]
    },
    {
      "cell_type": "code",
      "source": [
        "plt.figure()\n",
        "plt.plot(history.history[\"accuracy\"],label = \"Train Accuracy\", color = \"black\")\n",
        "plt.plot(history.history[\"val_accuracy\"],label = \"Validation Accuracy\", color = \"darkred\", marker = \"+\", linestyle=\"dashed\",markeredgecolor = \"purple\", markeredgewidth = 2)\n",
        "plt.title(\"Model Accuracy\", color = \"darkred\", size = 13)\n",
        "plt.legend()\n",
        "plt.show()"
      ],
      "metadata": {
        "colab": {
          "base_uri": "https://localhost:8080/",
          "height": 452
        },
        "id": "EhNzpCadZCJc",
        "outputId": "d88f5612-072f-4f52-f84c-4ffcb2150d25"
      },
      "execution_count": null,
      "outputs": [
        {
          "output_type": "display_data",
          "data": {
            "text/plain": [
              "<Figure size 640x480 with 1 Axes>"
            ],
            "image/png": "[encoded data removed]"
          },
          "metadata": {}
        }
      ]
    },
    {
      "cell_type": "code",
      "source": [
        "# We make predictions using the model we have created.\n",
        "Y_pred = model.predict(X_val)\n",
        "# argmax = To briefly mention it, it will give the index of the value with the highest value.\n",
        "Y_pred_classes = np.argmax(Y_pred,axis = 1)\n",
        "\n",
        "# We do the same for the y_val values. because we will compare these values.\n",
        "Y_true = np.argmax(Y_val,axis = 1)\n",
        "\n",
        "\"\"\"\n",
        "Let's explain the process we have done above with an example so that it sits on our minds.\n",
        "\n",
        "Y_pred = [0.12, 1.258, 3,4448], Let's assume we have such an array.\n",
        "argmax -- > it gives us the index of the largest value here.your biggest value here is our value\n",
        "starting with 3. its index is 2. argmax gives us this.\n",
        "\"\"\"\n",
        "confusion_mtx = confusion_matrix(Y_true, Y_pred_classes)\n",
        "\n",
        "# 색상\n",
        "cmap = mpl.colors.ListedColormap(['#f8f8ff', 'darkred'])\n",
        "\n",
        "# 그래프\n",
        "f,ax = plt.subplots(figsize=(10, 8))\n",
        "sns.heatmap(confusion_mtx, annot=True, linewidths=0.01,cmap=cmap,linecolor=\"gray\", fmt= '.1f',ax=ax)\n",
        "plt.xlabel(\"Predicted Label\", color = \"blue\")\n",
        "plt.ylabel(\"True Label\", color = \"green\")\n",
        "plt.title(\"Confusion Matrix\", color = \"darkred\", size = 15)\n",
        "plt.show()"
      ],
      "metadata": {
        "colab": {
          "base_uri": "https://localhost:8080/",
          "height": 738
        },
        "id": "TblzDf4gZG_F",
        "outputId": "be2dda9b-bfe1-4dcd-e18a-5a57b5b80442"
      },
      "execution_count": null,
      "outputs": [
        {
          "output_type": "stream",
          "name": "stdout",
          "text": [
            "132/132 [==============================] - 3s 19ms/step\n"
          ]
        },
        {
          "output_type": "display_data",
          "data": {
            "text/plain": [
              "<Figure size 1000x800 with 2 Axes>"
            ],
            "image/png": "[encoded data removed]"
          },
          "metadata": {}
        }
      ]
    }
  ]
}